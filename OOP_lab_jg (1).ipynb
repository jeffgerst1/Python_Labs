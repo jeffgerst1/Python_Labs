{
 "cells": [
  {
   "cell_type": "markdown",
   "metadata": {},
   "source": [
    "    Name: Jeff Gerst\n",
    "Email: Jgerst1@uncc.edu\n",
    "\n",
    "\n",
    "## Part 1 - Sequence Class\n",
    "\n",
    "Write a Sequence class. In the __init__ method, you should initialized one attribute, a String that represents a DNA Sequence\n",
    "This class should also have the following magic methods we discussed in class yesterday:\n",
    "\n",
    "- __repr__ and __str__\n",
    "- __eq__ and __lt__ (then use the decorator I demonstrated)\n",
    "\n",
    "It is up to you to decide how these should be implemented. For instance, what criteria do you think makes the most sense for saying two sequences are equal to one another? What criteria for one sequence to be considered \"less than\" another?"
   ]
  },
  {
   "cell_type": "code",
   "execution_count": 1,
   "metadata": {},
   "outputs": [],
   "source": [
    "#sequence class goes here\n",
    "from functools import total_ordering\n",
    "\n",
    "\n",
    "\n",
    "@total_ordering\n",
    "class Sequencet:\n",
    "    def __init__(self, Sequence):\n",
    "        if not all(c in 'ATCG' for c in Sequence):\n",
    "            raise ValueError(f\"Invalid sequence: {Sequence}. Only 'A', 'T', 'C', 'G' are allowed.\")\n",
    "        self.Sequence = Sequence\n",
    "\n",
    "    def __str__(self):\n",
    "        return f'{self.Sequence}'\n",
    "\n",
    "    def __repr__(self):\n",
    "        return (f'Sequence({self.Sequence})')\n",
    "\n",
    "\n",
    "\n",
    "    def __lt__(self, other):\n",
    "        return len(self.Sequence) < len(other.Sequence)\n",
    "\n",
    "\n",
    "    def __eq__(self, other):\n",
    "        if isinstance(other,Sequencet):\n",
    "            return self.Sequence == other.Sequence\n",
    "        return False"
   ]
  },
  {
   "cell_type": "code",
   "execution_count": 4,
   "metadata": {},
   "outputs": [
    {
     "name": "stdout",
     "output_type": "stream",
     "text": [
      "True\n",
      "False\n",
      "True\n",
      "True\n"
     ]
    }
   ],
   "source": [
    "seq1 = Sequencet('ATGTAC')\n",
    "seq2 = Sequencet('AGCGCAAT')\n",
    "seq3 = Sequencet('ATGTAC')\n",
    "\n",
    "print(seq1 < seq2)\n",
    "print(seq1 != seq3)\n",
    "print(seq1 == seq3)\n",
    "print(seq2 > seq3)"
   ]
  },
  {
   "cell_type": "markdown",
   "metadata": {},
   "source": [
    "## Part 2 - SequenceRecord Class\n",
    "\n",
    "Write a class called Sequence Record. This class should have two attributes:\n",
    "\n",
    "- A label/title (something that describe the source of the sequence, like the contents of a header line in a FASTA file)\n",
    "- and a Sequence object \n",
    "\n",
    "Your initializer should attempt to confirm that the second attribute is, in fact, a Sequence object. This can be accomplished using the isinstance() function\n",
    "\n",
    "You should also, at minimum, add a __str__ and __repr__ method."
   ]
  },
  {
   "cell_type": "code",
   "execution_count": 7,
   "metadata": {},
   "outputs": [],
   "source": [
    "class SequenceRecord:\n",
    "    def __init__(self,title,Sequence):\n",
    "        self.title = title\n",
    "        self.Sequence = Sequencet\n",
    "        if not isinstance(Sequence,Sequencet):\n",
    "            raise ValueError(\"sequence must be an instance of the class Sequencet\")\n",
    "        self.Sequence=Sequence\n",
    "    def __str__(self):\n",
    "        return f' {self.title}::{str(self.Sequence)}'\n",
    "\n",
    "\n",
    "    def __repr__(self):#\n",
    "        return f'SequenceRecord(title=\"{self.title}\", sequence={repr(self.sequence)})'"
   ]
  },
  {
   "cell_type": "code",
   "execution_count": 8,
   "metadata": {},
   "outputs": [
    {
     "name": "stdout",
     "output_type": "stream",
     "text": [
      " Sequence 1::ATGTAC\n",
      " Sequence 2::AGCGCAAT\n",
      " Sequence 3::ATGTAC\n"
     ]
    }
   ],
   "source": [
    "seq1 = Sequencet('ATGTAC')\n",
    "seq2 = Sequencet('AGCGCAAT')\n",
    "seq3 = Sequencet('ATGTAC')\n",
    "\n",
    "\n",
    "record1 = SequenceRecord('Sequence 1', seq1)\n",
    "record2 = SequenceRecord('Sequence 2', seq2)\n",
    "record3 = SequenceRecord('Sequence 3', seq3)\n",
    "print(*[record for record in [record1, record2, record3]], sep='\\n')"
   ]
  },
  {
   "cell_type": "markdown",
   "metadata": {},
   "source": []
  },
  {
   "cell_type": "code",
   "execution_count": null,
   "metadata": {},
   "outputs": [],
   "source": []
  }
 ],
 "metadata": {
  "kernelspec": {
   "display_name": "Python 3 (ipykernel)",
   "language": "python",
   "name": "python3"
  },
  "language_info": {
   "codemirror_mode": {
    "name": "ipython",
    "version": 3
   },
   "file_extension": ".py",
   "mimetype": "text/x-python",
   "name": "python",
   "nbconvert_exporter": "python",
   "pygments_lexer": "ipython3",
   "version": "3.9.7"
  }
 },
 "nbformat": 4,
 "nbformat_minor": 4
}
