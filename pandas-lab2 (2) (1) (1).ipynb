{
 "cells": [
  {
   "cell_type": "markdown",
   "metadata": {},
   "source": [
    "  Of schools with 7000 or more undergraduate students, sorted descendingly by the % of students receiving federal loans..\n",
    "  \n",
    "  1.\n",
    "  \n",
    "    a. How many of the top 50 (by % receiving loans) are located in NC?\n",
    "    1\n",
    "    \n",
    "    b. How many of the top 50 (by % receiving loans) are distance only?\n",
    "    1\n",
    "    c. What is the mean earning of students 10 years after enrollment \n",
    "    of those schools?\n",
    "    42800.0\n",
    "    \n",
    "  2. What is the national median debt for graduates (GRAD_DEBT_MDN_SUPP) compared to the median for NC schools?\n",
    "    "
   ]
  },
  {
   "cell_type": "markdown",
   "metadata": {},
   "source": [
    "Helpful notes!\n",
    "\n",
    "Sorting by values\n",
    "    https://pandas.pydata.org/pandas-docs/stable/reference/api/pandas.DataFrame.sort_values.html#pandas.DataFrame.sort_values\n",
    "    \n",
    "Documentation explaining column values    \n",
    "https://collegescorecard.ed.gov/data/glossary/\n",
    "\n",
    "For part C and #2, the data is being stored as objects (Strings) rather than numbers. This is because some schools have not provided that information, and it was entered as \"PrivacySuppressed\". You'll have to figure out a way around this.\n",
    "    \n",
    "    "
   ]
  },
  {
   "cell_type": "code",
   "execution_count": 3,
   "metadata": {},
   "outputs": [
    {
     "name": "stderr",
     "output_type": "stream",
     "text": [
      "C:\\Users\\jeffg\\anaconda3\\lib\\site-packages\\IPython\\core\\interactiveshell.py:3444: DtypeWarning: Columns (9,1537,1540,1542,1606,1608,1614,1615,1619,1620,1621,1622,1623,1624,1625,1626,1627,1628,1629,1703,1704,1725,1726,1727,1728,1729,1743,1815,1816,1817,1818,1823,1824,1830,1831,1879,1880,1881,1882,1883,1884,1885,1886,1887,1888,1889,1890,1891,1892,1893,1894,1895,1896,1897,1898,1909,1910,1911,1912,1913,1957,1958,1959,1960,1961,1962,1963,1964,1965,1966,1967,1968,1969,1970,1971,1972,1973,1974,1975,1976,1983,1984,2376,2377,2403,2404,2495,2496,2497,2498,2499,2500,2501,2502,2503,2504,2505,2506,2507,2508,2509,2510,2511,2512,2513,2514,2515,2516,2517,2518,2519,2520,2521,2522,2523,2524,2525,2526,2527,2528,2529,2530,2958,3215,3231) have mixed types.Specify dtype option on import or set low_memory=False.\n",
      "  exec(code_obj, self.user_global_ns, self.user_ns)\n"
     ]
    }
   ],
   "source": [
    "import pandas as pd\n",
    "\n",
    "colleges = pd.read_csv(\"Most-Recent-Cohorts-Institution.csv\")\n"
   ]
  },
  {
   "cell_type": "code",
   "execution_count": null,
   "metadata": {},
   "outputs": [],
   "source": []
  },
  {
   "cell_type": "code",
   "execution_count": 5,
   "metadata": {},
   "outputs": [
    {
     "name": "stderr",
     "output_type": "stream",
     "text": [
      "C:\\Users\\jeffg\\anaconda3\\lib\\site-packages\\pandas\\core\\indexing.py:1773: SettingWithCopyWarning: \n",
      "A value is trying to be set on a copy of a slice from a DataFrame.\n",
      "Try using .loc[row_indexer,col_indexer] = value instead\n",
      "\n",
      "See the caveats in the documentation: https://pandas.pydata.org/pandas-docs/stable/user_guide/indexing.html#returning-a-view-versus-a-copy\n",
      "  self._setitem_single_column(ilocs[0], value, pi)\n"
     ]
    },
    {
     "name": "stdout",
     "output_type": "stream",
     "text": [
      "43662.22222222222\n",
      "                                          INSTNM STABBR     UGDS  \\\n",
      "5579        Arizona College of Nursing-Las Vegas     NV    946.0   \n",
      "5590              Florida Career College-Houston     TX   1109.0   \n",
      "5581      Florida Career College-West Palm Beach     FL    722.0   \n",
      "5583     Florida Career College-Lauderdale Lakes     FL    814.0   \n",
      "3529                         Lakeland University     WI   1396.0   \n",
      "464                  UEI College-Huntington Park     CA   1108.0   \n",
      "1175                    Ottawa University-Ottawa     KS    786.0   \n",
      "2201                        Russell Sage College     NY   1192.0   \n",
      "1467       Massachusetts College of Liberal Arts     MA    851.0   \n",
      "1179                    University of Saint Mary     KS    791.0   \n",
      "4067           United Education Institute-Morrow     GA   1269.0   \n",
      "5907                      UEI College-Sacramento     CA    947.0   \n",
      "5481                 West Coast University-Miami     FL   1123.0   \n",
      "2533                        Muskingum University     OH   1501.0   \n",
      "1911                          Bloomfield College     NJ   1294.0   \n",
      "2109                             Hilbert College     NY    723.0   \n",
      "3949                         UEI College-Ontario     CA    898.0   \n",
      "2441                  Baldwin Wallace University     OH   2808.0   \n",
      "2718                         Alvernia University     PA   2025.0   \n",
      "2125                               Keuka College     NY   1118.0   \n",
      "2219   St Paul's School of Nursing-Staten Island     NY    710.0   \n",
      "5589                         UEI College-Phoenix     AZ   1441.0   \n",
      "567                      University of New Haven     CT   4970.0   \n",
      "1235                     University of Pikeville     KY   1001.0   \n",
      "1129                     William Penn University     IA   1263.0   \n",
      "6022        United Education Institute-Las Vegas     NV    955.0   \n",
      "452   Vanguard University of Southern California     CA   1972.0   \n",
      "4597                     UEI College-West Covina     CA   1182.0   \n",
      "5364                     UEI College-Bakersfield     CA   1204.0   \n",
      "423           San Joaquin Valley College-Visalia     CA   2124.0   \n",
      "2600                          Wilmington College     OH   1027.0   \n",
      "2203                   St Bonaventure University     NY   1742.0   \n",
      "2903              Washington & Jefferson College     PA   1151.0   \n",
      "2521                       Mercy College of Ohio     OH   1215.0   \n",
      "3193                          McMurry University     TX   1115.0   \n",
      "3974                         UEI College-Gardena     CA   1248.0   \n",
      "1022             Indiana Institute of Technology     IN   1380.0   \n",
      "5171                       UEI College-Riverside     CA   1199.0   \n",
      "2747                  Delaware Valley University     PA   1644.0   \n",
      "1395                         Bay Path University     MA   1484.0   \n",
      "2565                        Otterbein University     OH   2180.0   \n",
      "2602                       Wittenberg University     OH   1256.0   \n",
      "5164                    UEI College-Garden Grove     CA   1048.0   \n",
      "3533                           Marian University     WI   1144.0   \n",
      "3362                American National University     VA    868.0   \n",
      "1840                            Doane University     NE   1102.0   \n",
      "2843                  The University of the Arts     PA   1395.0   \n",
      "5268                 MyComputerCareer at Raleigh     NC   1701.0   \n",
      "2047          St Paul's School of Nursing-Queens     NY    813.0   \n",
      "4061                          Capella University     MN  12378.0   \n",
      "\n",
      "      FTFTPCTFLOAN_POOLED_SUPP  DISTANCEONLY  MN_EARN_WNE_P10  \n",
      "5579                    1.0000           0.0          26400.0  \n",
      "5590                    0.9825           0.0          28300.0  \n",
      "5581                    0.9814           0.0          28300.0  \n",
      "5583                    0.9787           0.0          28300.0  \n",
      "3529                    0.9728           0.0          45100.0  \n",
      "464                     0.9705           0.0          27100.0  \n",
      "1175                    0.9704           0.0          48100.0  \n",
      "2201                    0.9697           0.0          47100.0  \n",
      "1467                    0.9692           0.0          38300.0  \n",
      "1179                    0.9681           0.0          42500.0  \n",
      "4067                    0.9681           0.0          27100.0  \n",
      "5907                    0.9598           0.0              NaN  \n",
      "5481                    0.9583           0.0          67700.0  \n",
      "2533                    0.9580           0.0          43500.0  \n",
      "1911                    0.9563           0.0          42700.0  \n",
      "2109                    0.9549           0.0          47700.0  \n",
      "3949                    0.9531           0.0          27100.0  \n",
      "2441                    0.9524           0.0          49200.0  \n",
      "2718                    0.9523           0.0          47300.0  \n",
      "2125                    0.9516           0.0          46700.0  \n",
      "2219                    0.9508           0.0          78100.0  \n",
      "5589                    0.9508           0.0          27100.0  \n",
      "567                     0.9500           0.0          54600.0  \n",
      "1235                    0.9494           0.0          39000.0  \n",
      "1129                    0.9482           0.0          46400.0  \n",
      "6022                    0.9476           0.0              NaN  \n",
      "452                     0.9468           0.0          48800.0  \n",
      "4597                    0.9460           0.0          27100.0  \n",
      "5364                    0.9457           0.0          25300.0  \n",
      "423                     0.9453           0.0          33400.0  \n",
      "2600                    0.9430           0.0          41900.0  \n",
      "2203                    0.9428           0.0          52700.0  \n",
      "2903                    0.9427           0.0          60100.0  \n",
      "2521                    0.9421           0.0          49500.0  \n",
      "3193                    0.9418           0.0          46400.0  \n",
      "3974                    0.9410           0.0              NaN  \n",
      "1022                    0.9409           0.0          49400.0  \n",
      "5171                    0.9408           0.0              NaN  \n",
      "2747                    0.9385           0.0          44700.0  \n",
      "1395                    0.9373           0.0          44800.0  \n",
      "2565                    0.9328           0.0          46900.0  \n",
      "2602                    0.9327           0.0          49000.0  \n",
      "5164                    0.9306           0.0          27100.0  \n",
      "3533                    0.9292           0.0          46700.0  \n",
      "3362                    0.9286           0.0          23000.0  \n",
      "1840                    0.9281           0.0          48200.0  \n",
      "2843                    0.9269           0.0          39100.0  \n",
      "5268                    0.9261           0.0              NaN  \n",
      "2047                    0.9260           0.0          84400.0  \n",
      "4061                    0.9211           1.0          72600.0  \n"
     ]
    }
   ],
   "source": [
    "import pandas as pd\n",
    "import numpy as np\n",
    "\n",
    "# Assuming 'colleges' is your DataFrame\n",
    "\n",
    "# Filter colleges with undergraduate population greater than 700\n",
    "Receivedloans = colleges[colleges['UGDS'] > 700]\n",
    "\n",
    "# Convert 'FTFTPCTFLOAN_POOLED_SUPP' column to numeric\n",
    "Receivedloans.loc[:, 'FTFTPCTFLOAN_POOLED_SUPP'] = pd.to_numeric(Receivedloans['FTFTPCTFLOAN_POOLED_SUPP'], errors='coerce')\n",
    "\n",
    "# Replace 'PrivacySuppressed' with NaN for 'MN_EARN_WNE_P10' column\n",
    "Receivedloans.loc[:, 'MN_EARN_WNE_P10'] = Receivedloans['MN_EARN_WNE_P10'].replace('PrivacySuppressed', np.nan)\n",
    "\n",
    "# Convert 'MN_EARN_WNE_P10' column to numeric\n",
    "Receivedloans.loc[:, 'MN_EARN_WNE_P10'] = pd.to_numeric(Receivedloans['MN_EARN_WNE_P10'], errors='coerce')\n",
    "\n",
    "\n",
    "no NC schools if nan rows are removed\n",
    "#Receivedloans = Receivedloans.dropna(subset=['MN_EARN_WNE_P10'])\n",
    "\n",
    "# Sort colleges by the percentage of students receiving federal loans\n",
    "sorted_schools = Receivedloans.sort_values(by='FTFTPCTFLOAN_POOLED_SUPP', ascending=False)\n",
    "\n",
    "# Select relevant columns for a cleaner view\n",
    "cleandata = sorted_schools[['INSTNM', 'STABBR', 'UGDS', 'FTFTPCTFLOAN_POOLED_SUPP', 'DISTANCEONLY', 'MN_EARN_WNE_P10']]\n",
    "mean_earnings_top_50 = cleandata.head(50)['MN_EARN_WNE_P10'].mean()\n",
    "print(mean_earnings_top_50)\n",
    "# Print top 50 cleaned colleges\n",
    "print(cleandata.head(50))\n",
    "\n"
   ]
  },
  {
   "cell_type": "code",
   "execution_count": 47,
   "metadata": {},
   "outputs": [
    {
     "data": {
      "text/html": [
       "<div>\n",
       "<style scoped>\n",
       "    .dataframe tbody tr th:only-of-type {\n",
       "        vertical-align: middle;\n",
       "    }\n",
       "\n",
       "    .dataframe tbody tr th {\n",
       "        vertical-align: top;\n",
       "    }\n",
       "\n",
       "    .dataframe thead th {\n",
       "        text-align: right;\n",
       "    }\n",
       "</style>\n",
       "<table border=\"1\" class=\"dataframe\">\n",
       "  <thead>\n",
       "    <tr style=\"text-align: right;\">\n",
       "      <th></th>\n",
       "      <th>INSTNM</th>\n",
       "      <th>STABBR</th>\n",
       "      <th>UGDS</th>\n",
       "      <th>FTFTPCTFLOAN_POOLED_SUPP</th>\n",
       "      <th>DISTANCEONLY</th>\n",
       "      <th>MN_EARN_WNE_P10</th>\n",
       "    </tr>\n",
       "  </thead>\n",
       "  <tbody>\n",
       "    <tr>\n",
       "      <th>4061</th>\n",
       "      <td>Capella University</td>\n",
       "      <td>MN</td>\n",
       "      <td>12378.0</td>\n",
       "      <td>0.9211</td>\n",
       "      <td>1.0</td>\n",
       "      <td>72600</td>\n",
       "    </tr>\n",
       "  </tbody>\n",
       "</table>\n",
       "</div>"
      ],
      "text/plain": [
       "                  INSTNM STABBR     UGDS  FTFTPCTFLOAN_POOLED_SUPP  \\\n",
       "4061  Capella University     MN  12378.0                    0.9211   \n",
       "\n",
       "      DISTANCEONLY MN_EARN_WNE_P10  \n",
       "4061           1.0           72600  "
      ]
     },
     "execution_count": 47,
     "metadata": {},
     "output_type": "execute_result"
    }
   ],
   "source": [
    "nc_schools = top_50_cleaned[top_50_cleaned['STABBR'] == 'NC']\n",
    "nc_schools\n",
    "online_school = top_50_cleaned[top_50_cleaned['DISTANCEONLY']== 1]\n",
    "online_school"
   ]
  },
  {
   "cell_type": "code",
   "execution_count": 54,
   "metadata": {},
   "outputs": [
    {
     "name": "stdout",
     "output_type": "stream",
     "text": [
      "The median graduation debt for North Carolina colleges is: $22184.0\n",
      "The national median graduation debt is: $19500.0\n"
     ]
    }
   ],
   "source": [
    "import pandas as pd\n",
    "import numpy as np\n",
    "\n",
    "#student count filter\n",
    "Receivedloans = colleges[colleges['UGDS'] > 700].copy()\n",
    "\n",
    "# PrivacySuppressed to NAn\n",
    "Receivedloans['FTFTPCTFLOAN_POOLED_SUPP'] = pd.to_numeric(Receivedloans['FTFTPCTFLOAN_POOLED_SUPP'], errors='coerce')\n",
    "Receivedloans['GRAD_DEBT_MDN_SUPP'] = pd.to_numeric(Receivedloans['GRAD_DEBT_MDN_SUPP'].replace('PrivacySuppressed', np.nan), errors='coerce')\n",
    "\n",
    "# Drop rows where 'GRAD_DEBT_MDN_SUPP' is NaN\n",
    "Receivedloans = Receivedloans.dropna(subset=['GRAD_DEBT_MDN_SUPP'])\n",
    "\n",
    "# Sort colleges by the median graduation debt\n",
    "orderedby10year= Receivedloans.sort_values(by='GRAD_DEBT_MDN_SUPP', ascending=False)\n",
    "\n",
    " \n",
    "orderedby10year= orderedby10year[['INSTNM', 'STABBR', 'UGDS', 'FTFTPCTFLOAN_POOLED_SUPP', 'DISTANCEONLY', 'GRAD_DEBT_MDN_SUPP']]\n",
    "\n",
    "# Drop  NaN \n",
    "orderedby10year['GRAD_DEBT_MDN_SUPP'].dropna()\n",
    "\n",
    "# Calculate the median of the 'GRAD_DEBT_MDN_SUPP' column\n",
    "median_grad_debt = orderedby10year['GRAD_DEBT_MDN_SUPP'].median()\n",
    "NCgrad_debt = orderedby10year[orderedby10year['STABBR'] == 'NC']\n",
    "median_grad_debt = orderedby10year['GRAD_DEBT_MDN_SUPP'].median()\n",
    "\n",
    "\n",
    "\n",
    "median_NC_grad_debt = NCgrad_debt['GRAD_DEBT_MDN_SUPP'].median()\n",
    "print(f\"The median graduation debt for North Carolina colleges is: ${median_NC_grad_debt}\")\n",
    "print(f\"The national median graduation debt is: ${median_grad_debt}\")\n",
    "\n"
   ]
  },
  {
   "cell_type": "code",
   "execution_count": null,
   "metadata": {},
   "outputs": [],
   "source": []
  },
  {
   "cell_type": "code",
   "execution_count": null,
   "metadata": {},
   "outputs": [],
   "source": [
    "\n"
   ]
  },
  {
   "cell_type": "code",
   "execution_count": null,
   "metadata": {},
   "outputs": [],
   "source": []
  },
  {
   "cell_type": "code",
   "execution_count": null,
   "metadata": {},
   "outputs": [],
   "source": []
  }
 ],
 "metadata": {
  "kernelspec": {
   "display_name": "Python 3 (ipykernel)",
   "language": "python",
   "name": "python3"
  },
  "language_info": {
   "codemirror_mode": {
    "name": "ipython",
    "version": 3
   },
   "file_extension": ".py",
   "mimetype": "text/x-python",
   "name": "python",
   "nbconvert_exporter": "python",
   "pygments_lexer": "ipython3",
   "version": "3.9.7"
  }
 },
 "nbformat": 4,
 "nbformat_minor": 4
}
