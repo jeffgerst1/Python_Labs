{
 "cells": [
  {
   "cell_type": "code",
   "execution_count": 79,
   "id": "56efc0ac-bad4-46a4-bdee-5334a6a1bb9d",
   "metadata": {},
   "outputs": [
    {
     "name": "stdout",
     "output_type": "stream",
     "text": [
      "Example DNA Record::The DNA Sequence is ATGGCTTTA\n",
      "Example Protein Record::MAL\n"
     ]
    }
   ],
   "source": [
    "class Sequence:\n",
    "    def __init__(self, sequence):\n",
    "        self.sequence = sequence.upper()\n",
    "\n",
    "    def __repr__(self):\n",
    "        return f\"{self.__class__.__name__} Sequence: {self.sequence}\"\n",
    "\n",
    "    def __len__(self):\n",
    "        return len(self.sequence)\n",
    "\n",
    "    def __eq__(self, other):\n",
    "        return self.sequence == other.sequence\n",
    "\n",
    "    def __str__(self):\n",
    "        return (f'The Sequence is {self.sequence}')\n",
    "\n",
    "    \n",
    "class DNASequence(Sequence):\n",
    "    valid_chars = 'ATCG'\n",
    "\n",
    "    def __init__(self, sequence):\n",
    "        if not all(c in self.valid_chars for c in sequence.upper()):\n",
    "            raise ValueError(f\"Invalid DNA sequence: {sequence}. Only 'A', 'T', 'C', 'G' are allowed.\")\n",
    "        super().__init__(sequence)\n",
    "\n",
    "    def translate(self, aa_dict):\n",
    "        protein = \"\"\n",
    "        for i in range(0, len(self.sequence), 3):\n",
    "            codon = self.sequence[i:i+3]\n",
    "            for aa, codons in aa_dict.items():\n",
    "                if codon in codons:\n",
    "                    protein += aa\n",
    "                    break\n",
    "        return ProteinSequence(protein)\n",
    "        \n",
    "    def __str__(self):\n",
    "        return f\"The DNA Sequence is {self.sequence}\"\n",
    "        \n",
    "    def __repr__(self):\n",
    "        return f\"{self.__class__.__name__} DNA Sequence: {self.sequence}\"\n",
    "\n",
    "\n",
    "\n",
    "    \n",
    "class ProteinSequence(Sequence):\n",
    "    valid_chars = \"ACDEFGHIKLMNPQRSTVWYX*\"\n",
    "\n",
    "    def __init__(self, sequence):\n",
    "        if not all(c in self.valid_chars for c in sequence):\n",
    "            raise ValueError(f\"Invalid protein sequence: {sequence}.\")\n",
    "        super().__init__(sequence)\n",
    "\n",
    "    def __str__(self):\n",
    "        return self.sequence\n",
    "\n",
    "    def __repr__(self):\n",
    "        return f\"{self.__class__.__name__} Protein Sequence: {self.sequence}\"\n",
    "\n",
    "    def predict_function(self):\n",
    "        pass  # Placeholder for future implementation using alphafold, a sequence based structural prediction method used in structural bioinformatics.\n",
    "\n",
    "class SequenceRecord:\n",
    "    def __init__(self, title, sequence):\n",
    "        self.title = title\n",
    "        self.sequence = sequence\n",
    "        if not isinstance(sequence, Sequence):\n",
    "            raise ValueError(\"sequence must be an instance of the Sequence class\")\n",
    "\n",
    "    def __str__(self):\n",
    "        return f'{self.title}::{str(self.sequence)}'\n",
    "   \n",
    "aa_dict = {'M':['ATG'], 'F':['TTT', 'TTC'], 'L':['TTA', 'TTG', 'CTT', 'CTC', 'CTA', 'CTG'], 'C':['TGT', 'TGC'], 'Y':['TAC', 'TAT'], 'W':['TGG'], 'P':['CCT', 'CCC', 'CCA', 'CCG'], 'H':['CAT', 'CAC'],\n",
    "'Q':['CAA', 'CAG'], 'R':['CGT', 'CGC', 'CGA', 'CGG', 'AGA', 'AGG'], 'I':['ATT', 'ATC', 'ATA'], 'T':['ACT', 'ACC', 'ACA', 'ACG'],\n",
    "'N':['AAT', 'AAC'], 'K':['AAA', 'AAG'], 'S':['AGT', 'AGC', 'TCT', 'TCC', 'TCA', 'TCG'], 'V':['GTT', 'GTC', 'GTA', 'GTG'],\n",
    "'A':['GCT', 'GCC', 'GCA', 'GCG'], 'D':['GAT', 'GAC'], 'E':['GAA', 'GAG'], 'G':['GGT', 'GGC', 'GGA', 'GGG'], '*':['TAA','TAG','TGA']}    \n",
    "\n",
    "dna_seq = DNASequence(\"ATGGCTTTA\")\n",
    "protein_seq = ProteinSequence(\"MAL\")\n",
    "\n",
    "# Create SequenceRecord instances for each\n",
    "dna_record = SequenceRecord(\"Example DNA Record\", dna_seq)\n",
    "protein_record = SequenceRecord(\"Example Protein Record\", protein_seq)\n",
    "\n",
    "# Print the SequenceRecord instances\n",
    "print(dna_record)\n",
    "print(protein_record)  "
   ]
  },
  {
   "cell_type": "code",
   "execution_count": 81,
   "id": "7d318eaa-beab-4b4f-acef-d34771161484",
   "metadata": {},
   "outputs": [
    {
     "name": "stdout",
     "output_type": "stream",
     "text": [
      "Protein Record::MAL\n"
     ]
    }
   ],
   "source": [
    "dna_seq = DNASequence(\"ATGGCTTTA\")\n",
    "protein_seq = ProteinSequence(\"MAL\")\n",
    "\n",
    "# Create SequenceRecord instances for each\n",
    "dna_record = SequenceRecord(\"DNA Record\", dna_seq)\n",
    "protein_record = SequenceRecord(\"Protein Record\", protein_seq)\n",
    "\n",
    "# Print the SequenceRecord instances\n",
    "print(protein_record)\n",
    "\n",
    "\n"
   ]
  },
  {
   "cell_type": "code",
   "execution_count": null,
   "id": "6557dcef-4678-43d4-8bf1-16639a70d3ad",
   "metadata": {},
   "outputs": [],
   "source": []
  },
  {
   "cell_type": "code",
   "execution_count": null,
   "id": "916207f6-e69e-410c-a0e1-121fb47380a9",
   "metadata": {},
   "outputs": [],
   "source": []
  },
  {
   "cell_type": "code",
   "execution_count": null,
   "id": "f7bf5ba2-3930-441a-aaf3-a39712589226",
   "metadata": {},
   "outputs": [],
   "source": []
  },
  {
   "cell_type": "code",
   "execution_count": null,
   "id": "cf298e54-c25e-43bb-91ca-71c513c89a13",
   "metadata": {},
   "outputs": [],
   "source": []
  }
 ],
 "metadata": {
  "kernelspec": {
   "display_name": "Python 3 (ipykernel)",
   "language": "python",
   "name": "python3"
  },
  "language_info": {
   "codemirror_mode": {
    "name": "ipython",
    "version": 3
   },
   "file_extension": ".py",
   "mimetype": "text/x-python",
   "name": "python",
   "nbconvert_exporter": "python",
   "pygments_lexer": "ipython3",
   "version": "3.9.7"
  }
 },
 "nbformat": 4,
 "nbformat_minor": 5
}
